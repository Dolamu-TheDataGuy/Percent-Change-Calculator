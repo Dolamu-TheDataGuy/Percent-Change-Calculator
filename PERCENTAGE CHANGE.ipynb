{
 "cells": [
  {
   "cell_type": "markdown",
   "metadata": {},
   "source": [
    "<h2 style =\"color: black; text-align: center; background-color : cyan;\">Program that Calculates Percentage Change</h2>"
   ]
  },
  {
   "cell_type": "markdown",
   "metadata": {},
   "source": [
    "<p style =\"color: black; text-align: justify;\">This is a python program that calculates the value of a percentage change applied to a number."
   ]
  },
  {
   "cell_type": "code",
   "execution_count": 2,
   "metadata": {},
   "outputs": [
    {
     "name": "stdout",
     "output_type": "stream",
     "text": [
      "Enter what you want to calulate in these form: (Decrease x by y percent)\n",
      "\n",
      "Decrease 30 by 100 percent\n",
      "\n",
      "30 decreased by 100 percent is 0\n"
     ]
    }
   ],
   "source": [
    "statement = (input('Enter what you want to calulate in these form: (Decrease x by y percent)\\n\\n'))\n",
    "\n",
    "state = statement.split()\n",
    "    \n",
    "if state[0] == 'Increase':\n",
    "    \n",
    "    x = int(state[1])\n",
    "    \n",
    "    y = int(state[3])\n",
    "    \n",
    "    result = int(x * (1 + (y/100)))\n",
    "    \n",
    "    print(f'\\n{x} increased by {y} percent is {result}')\n",
    "    \n",
    "else:\n",
    "    x = int(state[1])\n",
    "    \n",
    "    y = int(state[3])\n",
    "    \n",
    "    result = int(x * (1 - (y/100)))\n",
    "    \n",
    "    print(f'\\n{x} decreased by {y} percent is {result}')       "
   ]
  }
 ],
 "metadata": {
  "kernelspec": {
   "display_name": "Python 3",
   "language": "python",
   "name": "python3"
  },
  "language_info": {
   "codemirror_mode": {
    "name": "ipython",
    "version": 3
   },
   "file_extension": ".py",
   "mimetype": "text/x-python",
   "name": "python",
   "nbconvert_exporter": "python",
   "pygments_lexer": "ipython3",
   "version": "3.8.5"
  }
 },
 "nbformat": 4,
 "nbformat_minor": 4
}
